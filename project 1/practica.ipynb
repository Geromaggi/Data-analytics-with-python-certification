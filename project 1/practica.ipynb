{
 "cells": [
  {
   "cell_type": "code",
   "execution_count": null,
   "metadata": {},
   "outputs": [],
   "source": [
    "import numpy as np"
   ]
  },
  {
   "cell_type": "code",
   "execution_count": null,
   "metadata": {},
   "outputs": [],
   "source": [
    "lista = [0,1,2,3,4,5,6,7,8]"
   ]
  },
  {
   "cell_type": "code",
   "execution_count": null,
   "metadata": {},
   "outputs": [],
   "source": [
    "arreglo = np.array(lista).reshape(3,3)"
   ]
  },
  {
   "cell_type": "code",
   "execution_count": null,
   "metadata": {},
   "outputs": [],
   "source": [
    "arreglo"
   ]
  },
  {
   "cell_type": "code",
   "execution_count": null,
   "metadata": {},
   "outputs": [],
   "source": [
    "np.mean(arreglo)"
   ]
  },
  {
   "cell_type": "code",
   "execution_count": null,
   "metadata": {},
   "outputs": [],
   "source": [
    "list(np.mean(arreglo,axis=0))"
   ]
  },
  {
   "cell_type": "code",
   "execution_count": null,
   "metadata": {},
   "outputs": [],
   "source": [
    "np.mean(arreglo,axis=1)"
   ]
  },
  {
   "cell_type": "code",
   "execution_count": null,
   "metadata": {},
   "outputs": [],
   "source": [
    "diccionario = {\n",
    "    'mean' : [list(np.mean(arreglo,axis=0)),list(np.mean(arreglo,axis=1)),np.mean(arreglo)],\n",
    "    'variance' : [list(np.var(arreglo,axis=0)),list(np.var(arreglo,axis=1)),np.var(arreglo)],\n",
    "    'standar deviation' : [list(np.std(arreglo,axis=0)),list(np.std(arreglo,axis=1)),np.std(arreglo)],\n",
    "    'max' : [list(np.max(arreglo,axis=0)),list(np.max(arreglo,axis=1)),np.max(arreglo)],\n",
    "    'min' : [list(np.min(arreglo,axis=0)),list(np.min(arreglo,axis=1)),np.min(arreglo)],\n",
    "    'sum' : [list(np.sum(arreglo,axis=0)),list(np.sum(arreglo,axis=1)),np.sum(arreglo)]\n",
    "    \n",
    "}"
   ]
  },
  {
   "cell_type": "code",
   "execution_count": null,
   "metadata": {},
   "outputs": [],
   "source": [
    "diccionario"
   ]
  },
  {
   "cell_type": "code",
   "execution_count": 24,
   "metadata": {},
   "outputs": [],
   "source": [
    "def calculate(lista):\n",
    "    if len(lista) > 9:\n",
    "        ValueError('List must contain nine numbers.')\n",
    "    arreglo = np.array(lista).reshape(3,3)\n",
    "    #mean_row = (np.mean(arreglo,axis=0)).tolist()\n",
    "    calculations = {\n",
    "    'mean' : [(np.mean(arreglo,axis=0)).tolist(),(np.mean(arreglo,axis=1)).tolist(),np.mean(arreglo)],\n",
    "    'variance' : [(np.var(arreglo,axis=0)).tolist(),(np.var(arreglo,axis=1)).tolist(),np.var(arreglo)],\n",
    "    'standard deviation' : [(np.std(arreglo,axis=0)).tolist(),(np.std(arreglo,axis=1)).tolist(),np.std(arreglo)],\n",
    "    'max' : [(np.max(arreglo,axis=0)).tolist(),(np.max(arreglo,axis=1)).tolist(),np.max(arreglo)],\n",
    "    'min' : [(np.min(arreglo,axis=0)).tolist(),(np.min(arreglo,axis=1)).tolist(),np.min(arreglo)],\n",
    "    'sum' : [(np.sum(arreglo,axis=0)).tolist(),(np.sum(arreglo,axis=1)).tolist(),np.sum(arreglo)] \n",
    "    \n",
    "}\n",
    "     \n",
    "    return calculations"
   ]
  },
  {
   "cell_type": "code",
   "execution_count": null,
   "metadata": {},
   "outputs": [],
   "source": [
    "calculate([0,1,2,3,4,5,6,7,8])\n"
   ]
  },
  {
   "cell_type": "code",
   "execution_count": 25,
   "metadata": {},
   "outputs": [
    {
     "data": {
      "text/plain": [
       "{'mean': [[3.6666666666666665, 5.0, 3.0],\n",
       "  [3.3333333333333335, 4.0, 4.333333333333333],\n",
       "  3.888888888888889],\n",
       " 'variance': [[9.555555555555557, 0.6666666666666666, 8.666666666666666],\n",
       "  [3.555555555555556, 10.666666666666666, 6.222222222222221],\n",
       "  6.987654320987654],\n",
       " 'standard deviation': [[3.091206165165235,\n",
       "   0.816496580927726,\n",
       "   2.943920288775949],\n",
       "  [1.8856180831641267, 3.265986323710904, 2.494438257849294],\n",
       "  2.6434171674156266],\n",
       " 'max': [[8, 6, 7], [6, 8, 7], 8],\n",
       " 'min': [[1, 4, 0], [2, 0, 1], 0],\n",
       " 'sum': [[11, 15, 9], [10, 12, 13], 35]}"
      ]
     },
     "execution_count": 25,
     "metadata": {},
     "output_type": "execute_result"
    }
   ],
   "source": [
    "calculate([2,6,2,8,4,0,1,5,7])\n"
   ]
  },
  {
   "cell_type": "code",
   "execution_count": 26,
   "metadata": {},
   "outputs": [],
   "source": [
    "dicc = {'mean': [[3.6666666666666665, 5.0, 3.0], [3.3333333333333335, 4.0, 4.333333333333333], 3.888888888888889], 'variance': [[9.555555555555557, 0.6666666666666666, 8.666666666666666], [3.555555555555556, 10.666666666666666, 6.222222222222221], 6.987654320987654], 'standard deviation': [[3.091206165165235, 0.816496580927726, 2.943920288775949], [1.8856180831641267, 3.265986323710904, 2.494438257849294], 2.6434171674156266], 'max': [[8, 6, 7], [6, 8, 7], 8], 'min': [[1, 4, 0], [2, 0, 1], 0], 'sum': [[11, 15, 9], [10, 12, 13], 35]}"
   ]
  },
  {
   "cell_type": "code",
   "execution_count": 27,
   "metadata": {},
   "outputs": [],
   "source": [
    "dicc2 = calculate([2,6,2,8,4,0,1,5,7])"
   ]
  },
  {
   "cell_type": "code",
   "execution_count": 28,
   "metadata": {},
   "outputs": [
    {
     "data": {
      "text/plain": [
       "True"
      ]
     },
     "execution_count": 28,
     "metadata": {},
     "output_type": "execute_result"
    }
   ],
   "source": [
    "dicc == dicc2"
   ]
  }
 ],
 "metadata": {
  "kernelspec": {
   "display_name": "Python 3.8.10 64-bit",
   "language": "python",
   "name": "python3"
  },
  "language_info": {
   "codemirror_mode": {
    "name": "ipython",
    "version": 3
   },
   "file_extension": ".py",
   "mimetype": "text/x-python",
   "name": "python",
   "nbconvert_exporter": "python",
   "pygments_lexer": "ipython3",
   "version": "3.10.4"
  },
  "orig_nbformat": 4,
  "vscode": {
   "interpreter": {
    "hash": "916dbcbb3f70747c44a77c7bcd40155683ae19c65e1c03b4aa3499c5328201f1"
   }
  }
 },
 "nbformat": 4,
 "nbformat_minor": 2
}
